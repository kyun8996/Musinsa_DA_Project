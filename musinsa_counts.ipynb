{
 "cells": [
  {
   "cell_type": "markdown",
   "metadata": {},
   "source": [
    "## musinsa_label 상품들의 좋아요 수 크롤링"
   ]
  },
  {
   "cell_type": "code",
   "execution_count": null,
   "metadata": {},
   "outputs": [
    {
     "name": "stdout",
     "output_type": "stream",
     "text": [
      "   goodsNo                                     goodsName displayGenderText  \\\n",
      "0  3046279              SELVEDGE DENIM 2ND JACKET_INDIGO                공용   \n",
      "1  3046316  [MUT lab] 40S SELVEDGE STRAIGHT PANTS_INDIGO                공용   \n",
      "2  3046300     30S CINCH BACK SELVEDGE WIDE PANTS_INDIGO                공용   \n",
      "3  4693591    [MUT lab] SELVEDGE DENIM 1ST JACKET_INDIGO                남성   \n",
      "4  5392266     TEA-CORE LEATHER W.W. II 1ST JACKET_BLACK                남성   \n",
      "\n",
      "   normalPrice   price  couponPrice  saleRate  couponSaleRate  hasOptionPrice  \\\n",
      "0       159000  143100          NaN        10             NaN           False   \n",
      "1       128000  115200          NaN        10             NaN           False   \n",
      "2       128000  115200          NaN        10             NaN           False   \n",
      "3       159000  143100          NaN        10             NaN           False   \n",
      "4       388000  388000          NaN         0             NaN           False   \n",
      "\n",
      "         brand  reviewCount  reviewScore  isYoutubeCollab  \n",
      "0  outstanding         2122           96                0  \n",
      "1  outstanding         1547           96                0  \n",
      "2  outstanding         2974           98                0  \n",
      "3  outstanding          485           98                0  \n",
      "4  outstanding           33           98                0  \n"
     ]
    }
   ],
   "source": [
    "import pandas as pd\n",
    "\n",
    "# 1. 파일 경로 지정\n",
    "file_path_musinsa_label = \"./Data/musinsa_label_data.csv\"\n",
    "\n",
    "# 2. CSV 파일을 DataFrame으로 불러오기\n",
    "df_musinsa_label = pd.read_csv(file_path_musinsa_label, encoding=\"utf-8\")  # 보통 utf-8, 혹은 cp949 필요할 수 있음\n",
    "\n",
    "# 3. 데이터 확인\n",
    "print(df_musinsa_label.head())"
   ]
  },
  {
   "cell_type": "code",
   "execution_count": null,
   "metadata": {},
   "outputs": [],
   "source": [
    "# df_musinsa_label의 goodsNo 컬럼을 리스트로 변환\n",
    "musinsa_label_goods_list = df_musinsa_label['goodsNo'].tolist()"
   ]
  },
  {
   "cell_type": "code",
   "execution_count": 3,
   "metadata": {},
   "outputs": [
    {
     "data": {
      "text/plain": [
       "2243"
      ]
     },
     "execution_count": 3,
     "metadata": {},
     "output_type": "execute_result"
    }
   ],
   "source": [
    "# 리스트 요소 개수 확인\n",
    "len(musinsa_label_goods_list)"
   ]
  },
  {
   "cell_type": "code",
   "execution_count": 4,
   "metadata": {},
   "outputs": [],
   "source": [
    "import requests\n",
    "import pandas as pd\n",
    "\n",
    "# 1. API URL\n",
    "url = \"https://like.musinsa.com/like/api/v2/liketypes/goods/counts\"\n",
    "\n",
    "# 2. 요청 헤더\n",
    "headers = {\n",
    "    \"Content-Type\": \"application/json\",\n",
    "    \"Accept\": \"application/json\",\n",
    "    \"Origin\": \"https://www.musinsa.com\",\n",
    "    \"Referer\": \"https://www.musinsa.com/\",\n",
    "    \"User-Agent\": \"Mozilla/5.0 (Windows NT 10.0; Win64; x64) AppleWebKit/537.36 (KHTML, like Gecko) Chrome/140.0.0.0 Safari/537.36\",\n",
    "    # \"Cookie\": \"여기에 최신 쿠키값 입력\"\n",
    "}\n",
    "\n",
    "# 3. relationIds \n",
    "batch_size = 100\n",
    "results_musinsa_label = []\n",
    "\n",
    "# 100개 단위로 나눠서 API 호출\n",
    "for i in range(0, len(musinsa_label_goods_list), batch_size):\n",
    "    batch_musinsa_label = musinsa_label_goods_list[i:i + batch_size]\n",
    "    payload = {\n",
    "        \"relationIds\": batch_musinsa_label\n",
    "    }\n",
    "    \n",
    "    response_musinsa_label = requests.post(url, headers=headers, json=payload)\n",
    "    \n",
    "    if response_musinsa_label.status_code == 200:\n",
    "        data_musinsa_label = response_musinsa_label.json()\n",
    "        try:\n",
    "            items = data_musinsa_label[\"data\"][\"contents\"][\"items\"]\n",
    "            results_musinsa_label.extend(items)\n",
    "        except KeyError:\n",
    "            print(\"파싱 실패:\", data_musinsa_label)\n",
    "    else:\n",
    "        print(\"요청 실패:\", response_musinsa_label.status_code, response_musinsa_label.text)\n",
    "\n",
    "# 4. 최종 DataFrame으로 변환\n",
    "df_musinsa_counts = pd.DataFrame(results_musinsa_label)"
   ]
  },
  {
   "cell_type": "code",
   "execution_count": null,
   "metadata": {},
   "outputs": [
    {
     "name": "stdout",
     "output_type": "stream",
     "text": [
      "df_drawfit 개수:  2243\n"
     ]
    }
   ],
   "source": [
    "print('df_musinsa_counts 개수: ', len(df_musinsa_counts))"
   ]
  },
  {
   "cell_type": "code",
   "execution_count": 6,
   "metadata": {},
   "outputs": [
    {
     "data": {
      "text/html": [
       "<div>\n",
       "<style scoped>\n",
       "    .dataframe tbody tr th:only-of-type {\n",
       "        vertical-align: middle;\n",
       "    }\n",
       "\n",
       "    .dataframe tbody tr th {\n",
       "        vertical-align: top;\n",
       "    }\n",
       "\n",
       "    .dataframe thead th {\n",
       "        text-align: right;\n",
       "    }\n",
       "</style>\n",
       "<table border=\"1\" class=\"dataframe\">\n",
       "  <thead>\n",
       "    <tr style=\"text-align: right;\">\n",
       "      <th></th>\n",
       "      <th>likeType</th>\n",
       "      <th>relationId</th>\n",
       "      <th>count</th>\n",
       "      <th>liked</th>\n",
       "    </tr>\n",
       "  </thead>\n",
       "  <tbody>\n",
       "    <tr>\n",
       "      <th>0</th>\n",
       "      <td>GOODS</td>\n",
       "      <td>3046279</td>\n",
       "      <td>14280</td>\n",
       "      <td>False</td>\n",
       "    </tr>\n",
       "    <tr>\n",
       "      <th>1</th>\n",
       "      <td>GOODS</td>\n",
       "      <td>3046316</td>\n",
       "      <td>8569</td>\n",
       "      <td>False</td>\n",
       "    </tr>\n",
       "    <tr>\n",
       "      <th>2</th>\n",
       "      <td>GOODS</td>\n",
       "      <td>3046300</td>\n",
       "      <td>13368</td>\n",
       "      <td>False</td>\n",
       "    </tr>\n",
       "    <tr>\n",
       "      <th>3</th>\n",
       "      <td>GOODS</td>\n",
       "      <td>4693591</td>\n",
       "      <td>4923</td>\n",
       "      <td>False</td>\n",
       "    </tr>\n",
       "    <tr>\n",
       "      <th>4</th>\n",
       "      <td>GOODS</td>\n",
       "      <td>5392266</td>\n",
       "      <td>1141</td>\n",
       "      <td>False</td>\n",
       "    </tr>\n",
       "    <tr>\n",
       "      <th>...</th>\n",
       "      <td>...</td>\n",
       "      <td>...</td>\n",
       "      <td>...</td>\n",
       "      <td>...</td>\n",
       "    </tr>\n",
       "    <tr>\n",
       "      <th>2238</th>\n",
       "      <td>GOODS</td>\n",
       "      <td>2723026</td>\n",
       "      <td>156</td>\n",
       "      <td>False</td>\n",
       "    </tr>\n",
       "    <tr>\n",
       "      <th>2239</th>\n",
       "      <td>GOODS</td>\n",
       "      <td>2450114</td>\n",
       "      <td>200</td>\n",
       "      <td>False</td>\n",
       "    </tr>\n",
       "    <tr>\n",
       "      <th>2240</th>\n",
       "      <td>GOODS</td>\n",
       "      <td>2450112</td>\n",
       "      <td>264</td>\n",
       "      <td>False</td>\n",
       "    </tr>\n",
       "    <tr>\n",
       "      <th>2241</th>\n",
       "      <td>GOODS</td>\n",
       "      <td>2450038</td>\n",
       "      <td>507</td>\n",
       "      <td>False</td>\n",
       "    </tr>\n",
       "    <tr>\n",
       "      <th>2242</th>\n",
       "      <td>GOODS</td>\n",
       "      <td>2178041</td>\n",
       "      <td>49</td>\n",
       "      <td>False</td>\n",
       "    </tr>\n",
       "  </tbody>\n",
       "</table>\n",
       "<p>2243 rows × 4 columns</p>\n",
       "</div>"
      ],
      "text/plain": [
       "     likeType relationId  count  liked\n",
       "0       GOODS    3046279  14280  False\n",
       "1       GOODS    3046316   8569  False\n",
       "2       GOODS    3046300  13368  False\n",
       "3       GOODS    4693591   4923  False\n",
       "4       GOODS    5392266   1141  False\n",
       "...       ...        ...    ...    ...\n",
       "2238    GOODS    2723026    156  False\n",
       "2239    GOODS    2450114    200  False\n",
       "2240    GOODS    2450112    264  False\n",
       "2241    GOODS    2450038    507  False\n",
       "2242    GOODS    2178041     49  False\n",
       "\n",
       "[2243 rows x 4 columns]"
      ]
     },
     "execution_count": 6,
     "metadata": {},
     "output_type": "execute_result"
    }
   ],
   "source": [
    "df_musinsa_counts"
   ]
  },
  {
   "cell_type": "code",
   "execution_count": null,
   "metadata": {},
   "outputs": [],
   "source": [
    "# # csv 저장\n",
    "# df_musinsa_counts.to_csv('Data/musinsa_counts_data.csv', index=False)"
   ]
  }
 ],
 "metadata": {
  "kernelspec": {
   "display_name": "pythonVM",
   "language": "python",
   "name": "python3"
  },
  "language_info": {
   "codemirror_mode": {
    "name": "ipython",
    "version": 3
   },
   "file_extension": ".py",
   "mimetype": "text/x-python",
   "name": "python",
   "nbconvert_exporter": "python",
   "pygments_lexer": "ipython3",
   "version": "3.11.11"
  }
 },
 "nbformat": 4,
 "nbformat_minor": 4
}
