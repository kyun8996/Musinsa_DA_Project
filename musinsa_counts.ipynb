{
 "cells": [
  {
   "cell_type": "markdown",
   "metadata": {},
   "source": [
    "## 1. drawfit 전체 상품의 좋아요 수 크롤링"
   ]
  },
  {
   "cell_type": "code",
   "execution_count": 9,
   "metadata": {},
   "outputs": [
    {
     "name": "stdout",
     "output_type": "stream",
     "text": [
      "   goodsNo                           goodsName  \\\n",
      "0  5275962  [패션플래닛X드로우핏] 세미 와이드 치노 팬츠 [6color]   \n",
      "1  1760177                 도브 울 블루종 자켓 [BLACK]   \n",
      "2  5384864       핀 스트라이프 크롭 블루종 자켓 [DARK NAVY]   \n",
      "3  5290700   [서강준PICK] 레이어 미니멀 스웨이드 자켓 [BROWN]   \n",
      "4  5384863        핀 스트라이프 크롭 블루종 자켓 [CHARCOAL]   \n",
      "\n",
      "                               goodsLinkUrl  \\\n",
      "0  https://www.musinsa.com/products/5275962   \n",
      "1  https://www.musinsa.com/products/1760177   \n",
      "2  https://www.musinsa.com/products/5384864   \n",
      "3  https://www.musinsa.com/products/5290700   \n",
      "4  https://www.musinsa.com/products/5384863   \n",
      "\n",
      "                                           thumbnail displayGenderText  \\\n",
      "0  https://image.msscdn.net/images/goods_img/2025...                남성   \n",
      "1  https://image.msscdn.net/images/goods_img/2021...                남성   \n",
      "2  https://image.msscdn.net/images/goods_img/2025...                남성   \n",
      "3  https://image.msscdn.net/images/goods_img/2025...                남성   \n",
      "4  https://image.msscdn.net/images/goods_img/2025...                남성   \n",
      "\n",
      "   isSoldOut  normalPrice   price  saleRate    brand  ... adTooltip  \\\n",
      "0      False        66000   59400        10  drawfit  ...       NaN   \n",
      "1      False       174000  139200        20  drawfit  ...       NaN   \n",
      "2      False       174000  139200        20  drawfit  ...       NaN   \n",
      "3      False       174000  139200        20  drawfit  ...       NaN   \n",
      "4      False       174000  139200        20  drawfit  ...       NaN   \n",
      "\n",
      "  plusDeliveryGuideText                                      infoLabelList  \\\n",
      "0                   NaN  [{'code': 'PERIOD_CAMPAIGN', 'title': '무신사에디션'...   \n",
      "1                   NaN  [{'code': 'EXCLUSIVE', 'title': '단독', 'color':...   \n",
      "2                   NaN  [{'code': 'EXCLUSIVE', 'title': '단독', 'color':...   \n",
      "3                   NaN  [{'code': 'PERIOD_CAMPAIGN', 'title': '무신사에디션'...   \n",
      "4                   NaN  [{'code': 'EXCLUSIVE', 'title': '단독', 'color':...   \n",
      "\n",
      "                                      imageLabelList  clickTrackers  \\\n",
      "0  [{'code': 'BIG_CAMPAIGN', 'title': '추석빅세일', 'c...             []   \n",
      "1  [{'code': 'BIG_CAMPAIGN', 'title': '추석빅세일', 'c...             []   \n",
      "2                                                 []             []   \n",
      "3                                                 []             []   \n",
      "4                                                 []             []   \n",
      "\n",
      "   impressionTrackers  snap score isPlusDelivery usedConditionGrade  \n",
      "0                  []   NaN   0.0          False                NaN  \n",
      "1                  []   NaN   0.0          False                NaN  \n",
      "2                  []   NaN   0.0          False                NaN  \n",
      "3                  []   NaN   0.0          False                NaN  \n",
      "4                  []   NaN   0.0          False                NaN  \n",
      "\n",
      "[5 rows x 26 columns]\n"
     ]
    }
   ],
   "source": [
    "# drawfit 상품 정보 불러오기\n",
    "import pandas as pd\n",
    "\n",
    "# 1. 파일 경로 지정\n",
    "file_path_drawfit = \"./Data/drawfit_label.csv\"\n",
    "\n",
    "# 2. CSV 파일을 DataFrame으로 불러오기\n",
    "df_drawfit_label = pd.read_csv(file_path_drawfit, encoding=\"utf-8\")  # 보통 utf-8, 혹은 cp949 필요할 수 있음\n",
    "\n",
    "# 3. 데이터 확인\n",
    "print(df_drawfit_label.head())"
   ]
  },
  {
   "cell_type": "code",
   "execution_count": 10,
   "metadata": {},
   "outputs": [],
   "source": [
    "# df_label의 goodsNo 컬럼을 리스트로 변환\n",
    "drawfit_goods_list = df_drawfit_label['goodsNo'].tolist()"
   ]
  },
  {
   "cell_type": "code",
   "execution_count": 11,
   "metadata": {},
   "outputs": [
    {
     "data": {
      "text/plain": [
       "723"
      ]
     },
     "execution_count": 11,
     "metadata": {},
     "output_type": "execute_result"
    }
   ],
   "source": [
    "# 리스트 요소 개수 확인\n",
    "len(drawfit_goods_list)"
   ]
  },
  {
   "cell_type": "code",
   "execution_count": null,
   "metadata": {},
   "outputs": [],
   "source": [
    "import requests\n",
    "import pandas as pd\n",
    "\n",
    "# 1. API URL\n",
    "url = \"https://like.musinsa.com/like/api/v2/liketypes/goods/counts\"\n",
    "\n",
    "# 2. 요청 헤더\n",
    "headers = {\n",
    "    \"Content-Type\": \"application/json\",\n",
    "    \"Accept\": \"application/json\",\n",
    "    \"Origin\": \"https://www.musinsa.com\",\n",
    "    \"Referer\": \"https://www.musinsa.com/\",\n",
    "    \"User-Agent\": \"Mozilla/5.0 (Windows NT 10.0; Win64; x64) AppleWebKit/537.36 (KHTML, like Gecko) Chrome/140.0.0.0 Safari/537.36\",\n",
    "    # \"Cookie\": \"여기에 최신 쿠키값 입력\"\n",
    "}\n",
    "\n",
    "# 3. relationIds \n",
    "batch_size = 100\n",
    "results_drawfit = []\n",
    "\n",
    "# 100개 단위로 나눠서 API 호출\n",
    "for i in range(0, len(drawfit_goods_list), batch_size):\n",
    "    batch_drawfit = drawfit_goods_list[i:i + batch_size]\n",
    "    payload = {\n",
    "        \"relationIds\": batch_drawfit\n",
    "    }\n",
    "    \n",
    "    response_drawfit = requests.post(url, headers=headers, json=payload)\n",
    "    \n",
    "    if response_drawfit.status_code == 200:\n",
    "        data_drawfit = response_drawfit.json()\n",
    "        try:\n",
    "            items = data_drawfit[\"data\"][\"contents\"][\"items\"]\n",
    "            results_drawfit.extend(items)\n",
    "        except KeyError:\n",
    "            print(\"파싱 실패:\", data_drawfit)\n",
    "    else:\n",
    "        print(\"요청 실패:\", response_drawfit.status_code, response_drawfit.text)\n",
    "\n",
    "# 4. 최종 DataFrame으로 변환\n",
    "df_drawfit = pd.DataFrame(results_drawfit)"
   ]
  },
  {
   "cell_type": "code",
   "execution_count": 13,
   "metadata": {},
   "outputs": [
    {
     "name": "stdout",
     "output_type": "stream",
     "text": [
      "df_drawfit 개수:  723\n"
     ]
    }
   ],
   "source": [
    "print('df_drawfit 개수: ', len(df_drawfit))"
   ]
  },
  {
   "cell_type": "code",
   "execution_count": 14,
   "metadata": {},
   "outputs": [
    {
     "data": {
      "text/html": [
       "<div>\n",
       "<style scoped>\n",
       "    .dataframe tbody tr th:only-of-type {\n",
       "        vertical-align: middle;\n",
       "    }\n",
       "\n",
       "    .dataframe tbody tr th {\n",
       "        vertical-align: top;\n",
       "    }\n",
       "\n",
       "    .dataframe thead th {\n",
       "        text-align: right;\n",
       "    }\n",
       "</style>\n",
       "<table border=\"1\" class=\"dataframe\">\n",
       "  <thead>\n",
       "    <tr style=\"text-align: right;\">\n",
       "      <th></th>\n",
       "      <th>likeType</th>\n",
       "      <th>relationId</th>\n",
       "      <th>count</th>\n",
       "      <th>liked</th>\n",
       "    </tr>\n",
       "  </thead>\n",
       "  <tbody>\n",
       "    <tr>\n",
       "      <th>0</th>\n",
       "      <td>GOODS</td>\n",
       "      <td>5275962</td>\n",
       "      <td>4793</td>\n",
       "      <td>False</td>\n",
       "    </tr>\n",
       "    <tr>\n",
       "      <th>1</th>\n",
       "      <td>GOODS</td>\n",
       "      <td>1760177</td>\n",
       "      <td>18160</td>\n",
       "      <td>False</td>\n",
       "    </tr>\n",
       "    <tr>\n",
       "      <th>2</th>\n",
       "      <td>GOODS</td>\n",
       "      <td>5384864</td>\n",
       "      <td>2160</td>\n",
       "      <td>False</td>\n",
       "    </tr>\n",
       "    <tr>\n",
       "      <th>3</th>\n",
       "      <td>GOODS</td>\n",
       "      <td>5290700</td>\n",
       "      <td>1625</td>\n",
       "      <td>False</td>\n",
       "    </tr>\n",
       "    <tr>\n",
       "      <th>4</th>\n",
       "      <td>GOODS</td>\n",
       "      <td>5384863</td>\n",
       "      <td>1024</td>\n",
       "      <td>False</td>\n",
       "    </tr>\n",
       "    <tr>\n",
       "      <th>...</th>\n",
       "      <td>...</td>\n",
       "      <td>...</td>\n",
       "      <td>...</td>\n",
       "      <td>...</td>\n",
       "    </tr>\n",
       "    <tr>\n",
       "      <th>718</th>\n",
       "      <td>GOODS</td>\n",
       "      <td>1333401</td>\n",
       "      <td>781</td>\n",
       "      <td>False</td>\n",
       "    </tr>\n",
       "    <tr>\n",
       "      <th>719</th>\n",
       "      <td>GOODS</td>\n",
       "      <td>1305433</td>\n",
       "      <td>2124</td>\n",
       "      <td>False</td>\n",
       "    </tr>\n",
       "    <tr>\n",
       "      <th>720</th>\n",
       "      <td>GOODS</td>\n",
       "      <td>1130425</td>\n",
       "      <td>564</td>\n",
       "      <td>False</td>\n",
       "    </tr>\n",
       "    <tr>\n",
       "      <th>721</th>\n",
       "      <td>GOODS</td>\n",
       "      <td>607925</td>\n",
       "      <td>3220</td>\n",
       "      <td>False</td>\n",
       "    </tr>\n",
       "    <tr>\n",
       "      <th>722</th>\n",
       "      <td>GOODS</td>\n",
       "      <td>538282</td>\n",
       "      <td>756</td>\n",
       "      <td>False</td>\n",
       "    </tr>\n",
       "  </tbody>\n",
       "</table>\n",
       "<p>723 rows × 4 columns</p>\n",
       "</div>"
      ],
      "text/plain": [
       "    likeType relationId  count  liked\n",
       "0      GOODS    5275962   4793  False\n",
       "1      GOODS    1760177  18160  False\n",
       "2      GOODS    5384864   2160  False\n",
       "3      GOODS    5290700   1625  False\n",
       "4      GOODS    5384863   1024  False\n",
       "..       ...        ...    ...    ...\n",
       "718    GOODS    1333401    781  False\n",
       "719    GOODS    1305433   2124  False\n",
       "720    GOODS    1130425    564  False\n",
       "721    GOODS     607925   3220  False\n",
       "722    GOODS     538282    756  False\n",
       "\n",
       "[723 rows x 4 columns]"
      ]
     },
     "execution_count": 14,
     "metadata": {},
     "output_type": "execute_result"
    }
   ],
   "source": [
    "df_drawfit"
   ]
  },
  {
   "cell_type": "markdown",
   "metadata": {},
   "source": [
    "## 2. standarderror 전체 상품의 좋아요 수 크롤링"
   ]
  },
  {
   "cell_type": "code",
   "execution_count": null,
   "metadata": {},
   "outputs": [],
   "source": [
    "import pandas as pd\n",
    "\n",
    "# 1. 파일 경로 지정\n",
    "file_path_standard = \"./Data/standard_label.csv\"\n",
    "\n",
    "# 2. CSV 파일을 DataFrame으로 불러오기\n",
    "df_standard_label = pd.read_csv(file_path_standard, encoding=\"utf-8\")  # 보통 utf-8, 혹은 cp949 필요할 수 있음\n",
    "\n",
    "# 3. 데이터 확인\n",
    "print(df_standard_label.head())"
   ]
  },
  {
   "cell_type": "code",
   "execution_count": 16,
   "metadata": {},
   "outputs": [],
   "source": [
    "# df_label의 goodsNo 컬럼을 리스트로 변환\n",
    "standard_goods_list = df_standard_label['goodsNo'].tolist()"
   ]
  },
  {
   "cell_type": "code",
   "execution_count": 17,
   "metadata": {},
   "outputs": [
    {
     "data": {
      "text/plain": [
       "291"
      ]
     },
     "execution_count": 17,
     "metadata": {},
     "output_type": "execute_result"
    }
   ],
   "source": [
    "# 리스트 요소 개수 확인\n",
    "len(standard_goods_list)"
   ]
  },
  {
   "cell_type": "code",
   "execution_count": 18,
   "metadata": {},
   "outputs": [],
   "source": [
    "# 3. relationIds \n",
    "batch_size = 100\n",
    "results_standard = []\n",
    "\n",
    "# 100개 단위로 나눠서 API 호출\n",
    "for i in range(0, len(standard_goods_list), batch_size):\n",
    "    batch_standard = standard_goods_list[i:i + batch_size]\n",
    "    payload = {\n",
    "        \"relationIds\": batch_standard\n",
    "    }\n",
    "    \n",
    "    response_standard = requests.post(url, headers=headers, json=payload)\n",
    "    \n",
    "    if response_standard.status_code == 200:\n",
    "        data_standard = response_standard.json()\n",
    "        try:\n",
    "            items = data_standard[\"data\"][\"contents\"][\"items\"]\n",
    "            results_standard.extend(items)\n",
    "        except KeyError:\n",
    "            print(\"파싱 실패:\", data_standard)\n",
    "    else:\n",
    "        print(\"요청 실패:\", response_standard.status_code, response_standard.text)\n",
    "\n",
    "# 4. 최종 DataFrame으로 변환\n",
    "df_standard = pd.DataFrame(results_standard)"
   ]
  },
  {
   "cell_type": "code",
   "execution_count": 19,
   "metadata": {},
   "outputs": [
    {
     "name": "stdout",
     "output_type": "stream",
     "text": [
      "df_standard 개수:  291\n"
     ]
    }
   ],
   "source": [
    "print('df_standard 개수: ', len(df_standard))"
   ]
  },
  {
   "cell_type": "markdown",
   "metadata": {},
   "source": [
    "## 3. seez 전체 상품의 좋아요 수 크롤링"
   ]
  },
  {
   "cell_type": "code",
   "execution_count": null,
   "metadata": {},
   "outputs": [],
   "source": [
    "import pandas as pd\n",
    "\n",
    "# 1. 파일 경로 지정\n",
    "file_path_seez = \"./Data/seez_label.csv\"\n",
    "\n",
    "# 2. CSV 파일을 DataFrame으로 불러오기\n",
    "df_seez_label = pd.read_csv(file_path_seez, encoding=\"utf-8\")  # 보통 utf-8, 혹은 cp949 필요할 수 있음\n",
    "\n",
    "# 3. 데이터 확인\n",
    "print(df_seez_label.head())"
   ]
  },
  {
   "cell_type": "code",
   "execution_count": 22,
   "metadata": {},
   "outputs": [],
   "source": [
    "# df_label의 goodsNo 컬럼을 리스트로 변환\n",
    "seez_goods_list = df_seez_label['goodsNo'].tolist()"
   ]
  },
  {
   "cell_type": "code",
   "execution_count": null,
   "metadata": {},
   "outputs": [
    {
     "data": {
      "text/plain": [
       "159"
      ]
     },
     "execution_count": 23,
     "metadata": {},
     "output_type": "execute_result"
    }
   ],
   "source": [
    "# 리스트 요소 개수 확인\n",
    "len(seez_goods_list)"
   ]
  },
  {
   "cell_type": "code",
   "execution_count": 25,
   "metadata": {},
   "outputs": [],
   "source": [
    "# 3. relationIds \n",
    "batch_size = 100\n",
    "results_seez = []\n",
    "\n",
    "# 100개 단위로 나눠서 API 호출\n",
    "for i in range(0, len(seez_goods_list), batch_size):\n",
    "    batch_seez = seez_goods_list[i:i + batch_size]\n",
    "    payload = {\n",
    "        \"relationIds\": batch_seez\n",
    "    }\n",
    "    \n",
    "    response_seez = requests.post(url, headers=headers, json=payload)\n",
    "    \n",
    "    if response_seez.status_code == 200:\n",
    "        data_seez = response_seez.json()\n",
    "        try:\n",
    "            items = data_seez[\"data\"][\"contents\"][\"items\"]\n",
    "            results_seez.extend(items)\n",
    "        except KeyError:\n",
    "            print(\"파싱 실패:\", data_seez)\n",
    "    else:\n",
    "        print(\"요청 실패:\", response_seez.status_code, response_seez.text)\n",
    "\n",
    "# 4. 최종 DataFrame으로 변환\n",
    "df_seez = pd.DataFrame(results_seez)"
   ]
  },
  {
   "cell_type": "code",
   "execution_count": 26,
   "metadata": {},
   "outputs": [
    {
     "name": "stdout",
     "output_type": "stream",
     "text": [
      "df_seez 개수:  159\n"
     ]
    }
   ],
   "source": [
    "print('df_seez 개수: ', len(df_seez))"
   ]
  },
  {
   "cell_type": "markdown",
   "metadata": {},
   "source": [
    "## 4. kiimuir 전체 상품의 좋아요 수 크롤링"
   ]
  },
  {
   "cell_type": "code",
   "execution_count": null,
   "metadata": {},
   "outputs": [],
   "source": [
    "import pandas as pd\n",
    "\n",
    "# 1. 파일 경로 지정\n",
    "file_path_kiimuir = \"./Data/kiim_label.csv\"\n",
    "\n",
    "# 2. CSV 파일을 DataFrame으로 불러오기\n",
    "df_kiimuir_label = pd.read_csv(file_path_kiimuir, encoding=\"utf-8\")  # 보통 utf-8, 혹은 cp949 필요할 수 있음\n",
    "\n",
    "# 3. 데이터 확인\n",
    "print(df_kiimuir_label.head())"
   ]
  },
  {
   "cell_type": "code",
   "execution_count": 30,
   "metadata": {},
   "outputs": [],
   "source": [
    "# df_label의 goodsNo 컬럼을 리스트로 변환\n",
    "kiimuir_goods_list = df_kiimuir_label['goodsNo'].tolist()"
   ]
  },
  {
   "cell_type": "code",
   "execution_count": 31,
   "metadata": {},
   "outputs": [
    {
     "data": {
      "text/plain": [
       "379"
      ]
     },
     "execution_count": 31,
     "metadata": {},
     "output_type": "execute_result"
    }
   ],
   "source": [
    "# 리스트 요소 개수 확인\n",
    "len(kiimuir_goods_list)"
   ]
  },
  {
   "cell_type": "code",
   "execution_count": 32,
   "metadata": {},
   "outputs": [],
   "source": [
    "# 3. relationIds \n",
    "batch_size = 100\n",
    "results_kiimuir = []\n",
    "\n",
    "# 100개 단위로 나눠서 API 호출\n",
    "for i in range(0, len(kiimuir_goods_list), batch_size):\n",
    "    batch_kiimuir = kiimuir_goods_list[i:i + batch_size]\n",
    "    payload = {\n",
    "        \"relationIds\": batch_kiimuir\n",
    "    }\n",
    "    \n",
    "    response_kiimuir = requests.post(url, headers=headers, json=payload)\n",
    "    \n",
    "    if response_kiimuir.status_code == 200:\n",
    "        data_kiimuir = response_kiimuir.json()\n",
    "        try:\n",
    "            items = data_kiimuir[\"data\"][\"contents\"][\"items\"]\n",
    "            results_kiimuir.extend(items)\n",
    "        except KeyError:\n",
    "            print(\"파싱 실패:\", data_kiimuir)\n",
    "    else:\n",
    "        print(\"요청 실패:\", response_kiimuir.status_code, response_kiimuir.text)\n",
    "\n",
    "# 4. 최종 DataFrame으로 변환\n",
    "df_kiimuir = pd.DataFrame(results_kiimuir)"
   ]
  },
  {
   "cell_type": "code",
   "execution_count": 33,
   "metadata": {},
   "outputs": [
    {
     "name": "stdout",
     "output_type": "stream",
     "text": [
      "df_kiimuir 개수:  379\n"
     ]
    }
   ],
   "source": [
    "print('df_kiimuir 개수: ', len(df_kiimuir))"
   ]
  },
  {
   "cell_type": "code",
   "execution_count": null,
   "metadata": {},
   "outputs": [],
   "source": [
    "# # csv 저장\n",
    "# df_standard.to_csv('Data/standard_counts.csv', index=False)\n",
    "# df_drawfit.to_csv('Data/drawfit_counts.csv', index=False)\n",
    "# df_kiimuir.to_csv('Data/kiim_counts.csv', index=False)\n",
    "# df_seez.to_csv('Data/seez_counts.csv', index=False)"
   ]
  }
 ],
 "metadata": {
  "kernelspec": {
   "display_name": "pythonVM",
   "language": "python",
   "name": "python3"
  },
  "language_info": {
   "codemirror_mode": {
    "name": "ipython",
    "version": 3
   },
   "file_extension": ".py",
   "mimetype": "text/x-python",
   "name": "python",
   "nbconvert_exporter": "python",
   "pygments_lexer": "ipython3",
   "version": "3.11.11"
  }
 },
 "nbformat": 4,
 "nbformat_minor": 4
}
